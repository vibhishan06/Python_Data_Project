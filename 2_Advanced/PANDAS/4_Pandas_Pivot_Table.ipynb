{
 "cells": [
  {
   "cell_type": "code",
   "execution_count": 1,
   "id": "9eb25bd1",
   "metadata": {},
   "outputs": [
    {
     "name": "stderr",
     "output_type": "stream",
     "text": [
      "c:\\Users\\VINAMRA SHUKLA\\anaconda3\\envs\\python_course\\Lib\\site-packages\\tqdm\\auto.py:21: TqdmWarning: IProgress not found. Please update jupyter and ipywidgets. See https://ipywidgets.readthedocs.io/en/stable/user_install.html\n",
      "  from .autonotebook import tqdm as notebook_tqdm\n"
     ]
    }
   ],
   "source": [
    "# Importing Libraries\n",
    "import pandas as pd\n",
    "from datasets import load_dataset\n",
    "import matplotlib.pyplot as plt"
   ]
  },
  {
   "cell_type": "code",
   "execution_count": 2,
   "id": "74d890d5",
   "metadata": {},
   "outputs": [],
   "source": [
    "# Loading Data\n",
    "dataset = load_dataset('lukebarousse/data_jobs')\n",
    "df = dataset['train'].to_pandas()"
   ]
  },
  {
   "cell_type": "code",
   "execution_count": 3,
   "id": "9f22bab3",
   "metadata": {},
   "outputs": [],
   "source": [
    "# Data Cleanup\n",
    "df['job_posted_date'] = pd.to_datetime(df['job_posted_date'])"
   ]
  },
  {
   "cell_type": "markdown",
   "id": "a33a3622",
   "metadata": {},
   "source": [
    "Count of Job Titles"
   ]
  },
  {
   "cell_type": "code",
   "execution_count": null,
   "id": "39dd6325",
   "metadata": {},
   "outputs": [
    {
     "data": {
      "text/plain": [
       "job_title_short\n",
       "Business Analyst              49063\n",
       "Cloud Engineer                12331\n",
       "Data Analyst                 196075\n",
       "Data Engineer                186241\n",
       "Data Scientist               172286\n",
       "Machine Learning Engineer     14080\n",
       "Senior Data Analyst           29216\n",
       "Senior Data Engineer          44563\n",
       "Senior Data Scientist         36957\n",
       "Software Engineer             44929\n",
       "dtype: int64"
      ]
     },
     "execution_count": 4,
     "metadata": {},
     "output_type": "execute_result"
    }
   ],
   "source": [
    "df.pivot_table(index = 'job_title_short' , aggfunc = 'size')            #size: counts all rows in a group (value/column not required)"
   ]
  },
  {
   "cell_type": "markdown",
   "id": "47ce6ae8",
   "metadata": {},
   "source": [
    "We can get the exact same output by using the groupby() method........."
   ]
  },
  {
   "cell_type": "code",
   "execution_count": 5,
   "id": "302439d9",
   "metadata": {},
   "outputs": [
    {
     "data": {
      "text/plain": [
       "job_title_short\n",
       "Business Analyst              49063\n",
       "Cloud Engineer                12331\n",
       "Data Analyst                 196075\n",
       "Data Engineer                186241\n",
       "Data Scientist               172286\n",
       "Machine Learning Engineer     14080\n",
       "Senior Data Analyst           29216\n",
       "Senior Data Engineer          44563\n",
       "Senior Data Scientist         36957\n",
       "Software Engineer             44929\n",
       "dtype: int64"
      ]
     },
     "execution_count": 5,
     "metadata": {},
     "output_type": "execute_result"
    }
   ],
   "source": [
    "df.groupby('job_title_short').size()"
   ]
  },
  {
   "cell_type": "markdown",
   "id": "8c463d18",
   "metadata": {},
   "source": [
    "Now, let's say we not only want to group by the job_title_short column but we also want to aggregate it to get the median yearly salary"
   ]
  },
  {
   "cell_type": "code",
   "execution_count": 6,
   "id": "10783a72",
   "metadata": {},
   "outputs": [
    {
     "data": {
      "text/html": [
       "<div>\n",
       "<style scoped>\n",
       "    .dataframe tbody tr th:only-of-type {\n",
       "        vertical-align: middle;\n",
       "    }\n",
       "\n",
       "    .dataframe tbody tr th {\n",
       "        vertical-align: top;\n",
       "    }\n",
       "\n",
       "    .dataframe thead th {\n",
       "        text-align: right;\n",
       "    }\n",
       "</style>\n",
       "<table border=\"1\" class=\"dataframe\">\n",
       "  <thead>\n",
       "    <tr style=\"text-align: right;\">\n",
       "      <th></th>\n",
       "      <th>salary_year_avg</th>\n",
       "    </tr>\n",
       "    <tr>\n",
       "      <th>job_title_short</th>\n",
       "      <th></th>\n",
       "    </tr>\n",
       "  </thead>\n",
       "  <tbody>\n",
       "    <tr>\n",
       "      <th>Business Analyst</th>\n",
       "      <td>85000.0</td>\n",
       "    </tr>\n",
       "    <tr>\n",
       "      <th>Cloud Engineer</th>\n",
       "      <td>90000.0</td>\n",
       "    </tr>\n",
       "    <tr>\n",
       "      <th>Data Analyst</th>\n",
       "      <td>90000.0</td>\n",
       "    </tr>\n",
       "    <tr>\n",
       "      <th>Data Engineer</th>\n",
       "      <td>125000.0</td>\n",
       "    </tr>\n",
       "    <tr>\n",
       "      <th>Data Scientist</th>\n",
       "      <td>127500.0</td>\n",
       "    </tr>\n",
       "    <tr>\n",
       "      <th>Machine Learning Engineer</th>\n",
       "      <td>106415.0</td>\n",
       "    </tr>\n",
       "    <tr>\n",
       "      <th>Senior Data Analyst</th>\n",
       "      <td>111175.0</td>\n",
       "    </tr>\n",
       "    <tr>\n",
       "      <th>Senior Data Engineer</th>\n",
       "      <td>147500.0</td>\n",
       "    </tr>\n",
       "    <tr>\n",
       "      <th>Senior Data Scientist</th>\n",
       "      <td>155500.0</td>\n",
       "    </tr>\n",
       "    <tr>\n",
       "      <th>Software Engineer</th>\n",
       "      <td>99150.0</td>\n",
       "    </tr>\n",
       "  </tbody>\n",
       "</table>\n",
       "</div>"
      ],
      "text/plain": [
       "                           salary_year_avg\n",
       "job_title_short                           \n",
       "Business Analyst                   85000.0\n",
       "Cloud Engineer                     90000.0\n",
       "Data Analyst                       90000.0\n",
       "Data Engineer                     125000.0\n",
       "Data Scientist                    127500.0\n",
       "Machine Learning Engineer         106415.0\n",
       "Senior Data Analyst               111175.0\n",
       "Senior Data Engineer              147500.0\n",
       "Senior Data Scientist             155500.0\n",
       "Software Engineer                  99150.0"
      ]
     },
     "execution_count": 6,
     "metadata": {},
     "output_type": "execute_result"
    }
   ],
   "source": [
    "df.pivot_table(values = 'salary_year_avg', index = 'job_title_short', aggfunc = 'median')"
   ]
  },
  {
   "cell_type": "markdown",
   "id": "be6588d7",
   "metadata": {},
   "source": [
    "We can do this also by the groupby() method......."
   ]
  },
  {
   "cell_type": "code",
   "execution_count": 7,
   "id": "b25676a2",
   "metadata": {},
   "outputs": [
    {
     "data": {
      "text/plain": [
       "job_title_short\n",
       "Business Analyst              85000.0\n",
       "Cloud Engineer                90000.0\n",
       "Data Analyst                  90000.0\n",
       "Data Engineer                125000.0\n",
       "Data Scientist               127500.0\n",
       "Machine Learning Engineer    106415.0\n",
       "Senior Data Analyst          111175.0\n",
       "Senior Data Engineer         147500.0\n",
       "Senior Data Scientist        155500.0\n",
       "Software Engineer             99150.0\n",
       "Name: salary_year_avg, dtype: float64"
      ]
     },
     "execution_count": 7,
     "metadata": {},
     "output_type": "execute_result"
    }
   ],
   "source": [
    "df.groupby('job_title_short')['salary_year_avg'].median()"
   ]
  },
  {
   "cell_type": "markdown",
   "id": "097e8879",
   "metadata": {},
   "source": [
    "But this final one, groupby() can't necessarily do it with a single line of code. We will now be calculating what is the median salary for these different job titles, but broken down by country."
   ]
  },
  {
   "cell_type": "markdown",
   "id": "f682b881",
   "metadata": {},
   "source": [
    "MEDIAN SALARY ANALYSIS BY COUNTRY:"
   ]
  },
  {
   "cell_type": "code",
   "execution_count": 9,
   "id": "6633af3c",
   "metadata": {},
   "outputs": [
    {
     "data": {
      "text/html": [
       "<div>\n",
       "<style scoped>\n",
       "    .dataframe tbody tr th:only-of-type {\n",
       "        vertical-align: middle;\n",
       "    }\n",
       "\n",
       "    .dataframe tbody tr th {\n",
       "        vertical-align: top;\n",
       "    }\n",
       "\n",
       "    .dataframe thead th {\n",
       "        text-align: right;\n",
       "    }\n",
       "</style>\n",
       "<table border=\"1\" class=\"dataframe\">\n",
       "  <thead>\n",
       "    <tr style=\"text-align: right;\">\n",
       "      <th>job_title_short</th>\n",
       "      <th>Business Analyst</th>\n",
       "      <th>Cloud Engineer</th>\n",
       "      <th>Data Analyst</th>\n",
       "      <th>Data Engineer</th>\n",
       "      <th>Data Scientist</th>\n",
       "      <th>Machine Learning Engineer</th>\n",
       "      <th>Senior Data Analyst</th>\n",
       "      <th>Senior Data Engineer</th>\n",
       "      <th>Senior Data Scientist</th>\n",
       "      <th>Software Engineer</th>\n",
       "    </tr>\n",
       "    <tr>\n",
       "      <th>job_country</th>\n",
       "      <th></th>\n",
       "      <th></th>\n",
       "      <th></th>\n",
       "      <th></th>\n",
       "      <th></th>\n",
       "      <th></th>\n",
       "      <th></th>\n",
       "      <th></th>\n",
       "      <th></th>\n",
       "      <th></th>\n",
       "    </tr>\n",
       "  </thead>\n",
       "  <tbody>\n",
       "    <tr>\n",
       "      <th>Albania</th>\n",
       "      <td>NaN</td>\n",
       "      <td>NaN</td>\n",
       "      <td>49950.00</td>\n",
       "      <td>NaN</td>\n",
       "      <td>69981.25</td>\n",
       "      <td>NaN</td>\n",
       "      <td>NaN</td>\n",
       "      <td>NaN</td>\n",
       "      <td>157500.0</td>\n",
       "      <td>NaN</td>\n",
       "    </tr>\n",
       "    <tr>\n",
       "      <th>Algeria</th>\n",
       "      <td>NaN</td>\n",
       "      <td>NaN</td>\n",
       "      <td>44100.00</td>\n",
       "      <td>45000.0</td>\n",
       "      <td>NaN</td>\n",
       "      <td>NaN</td>\n",
       "      <td>NaN</td>\n",
       "      <td>NaN</td>\n",
       "      <td>NaN</td>\n",
       "      <td>NaN</td>\n",
       "    </tr>\n",
       "    <tr>\n",
       "      <th>Argentina</th>\n",
       "      <td>71100.0</td>\n",
       "      <td>197500.0</td>\n",
       "      <td>92771.75</td>\n",
       "      <td>96773.0</td>\n",
       "      <td>71000.00</td>\n",
       "      <td>101029.0</td>\n",
       "      <td>NaN</td>\n",
       "      <td>147500.0</td>\n",
       "      <td>NaN</td>\n",
       "      <td>174500.0</td>\n",
       "    </tr>\n",
       "    <tr>\n",
       "      <th>Armenia</th>\n",
       "      <td>NaN</td>\n",
       "      <td>NaN</td>\n",
       "      <td>100500.00</td>\n",
       "      <td>48750.0</td>\n",
       "      <td>NaN</td>\n",
       "      <td>87021.0</td>\n",
       "      <td>NaN</td>\n",
       "      <td>NaN</td>\n",
       "      <td>NaN</td>\n",
       "      <td>NaN</td>\n",
       "    </tr>\n",
       "    <tr>\n",
       "      <th>Australia</th>\n",
       "      <td>70000.0</td>\n",
       "      <td>110000.0</td>\n",
       "      <td>109500.00</td>\n",
       "      <td>106712.5</td>\n",
       "      <td>139216.00</td>\n",
       "      <td>101029.0</td>\n",
       "      <td>50640.0</td>\n",
       "      <td>147500.0</td>\n",
       "      <td>157500.0</td>\n",
       "      <td>118350.0</td>\n",
       "    </tr>\n",
       "    <tr>\n",
       "      <th>...</th>\n",
       "      <td>...</td>\n",
       "      <td>...</td>\n",
       "      <td>...</td>\n",
       "      <td>...</td>\n",
       "      <td>...</td>\n",
       "      <td>...</td>\n",
       "      <td>...</td>\n",
       "      <td>...</td>\n",
       "      <td>...</td>\n",
       "      <td>...</td>\n",
       "    </tr>\n",
       "    <tr>\n",
       "      <th>Uruguay</th>\n",
       "      <td>NaN</td>\n",
       "      <td>NaN</td>\n",
       "      <td>100500.00</td>\n",
       "      <td>NaN</td>\n",
       "      <td>NaN</td>\n",
       "      <td>50000.0</td>\n",
       "      <td>NaN</td>\n",
       "      <td>NaN</td>\n",
       "      <td>57500.0</td>\n",
       "      <td>NaN</td>\n",
       "    </tr>\n",
       "    <tr>\n",
       "      <th>Uzbekistan</th>\n",
       "      <td>NaN</td>\n",
       "      <td>NaN</td>\n",
       "      <td>NaN</td>\n",
       "      <td>NaN</td>\n",
       "      <td>30750.00</td>\n",
       "      <td>NaN</td>\n",
       "      <td>NaN</td>\n",
       "      <td>NaN</td>\n",
       "      <td>NaN</td>\n",
       "      <td>NaN</td>\n",
       "    </tr>\n",
       "    <tr>\n",
       "      <th>Vietnam</th>\n",
       "      <td>79200.0</td>\n",
       "      <td>NaN</td>\n",
       "      <td>75550.00</td>\n",
       "      <td>96773.0</td>\n",
       "      <td>70000.00</td>\n",
       "      <td>57600.0</td>\n",
       "      <td>105837.5</td>\n",
       "      <td>147500.0</td>\n",
       "      <td>79200.0</td>\n",
       "      <td>53600.0</td>\n",
       "    </tr>\n",
       "    <tr>\n",
       "      <th>Zambia</th>\n",
       "      <td>NaN</td>\n",
       "      <td>NaN</td>\n",
       "      <td>NaN</td>\n",
       "      <td>NaN</td>\n",
       "      <td>90670.00</td>\n",
       "      <td>NaN</td>\n",
       "      <td>NaN</td>\n",
       "      <td>NaN</td>\n",
       "      <td>NaN</td>\n",
       "      <td>NaN</td>\n",
       "    </tr>\n",
       "    <tr>\n",
       "      <th>Zimbabwe</th>\n",
       "      <td>NaN</td>\n",
       "      <td>NaN</td>\n",
       "      <td>63000.00</td>\n",
       "      <td>NaN</td>\n",
       "      <td>69085.00</td>\n",
       "      <td>NaN</td>\n",
       "      <td>NaN</td>\n",
       "      <td>NaN</td>\n",
       "      <td>NaN</td>\n",
       "      <td>NaN</td>\n",
       "    </tr>\n",
       "  </tbody>\n",
       "</table>\n",
       "<p>108 rows × 10 columns</p>\n",
       "</div>"
      ],
      "text/plain": [
       "job_title_short  Business Analyst  Cloud Engineer  Data Analyst  \\\n",
       "job_country                                                       \n",
       "Albania                       NaN             NaN      49950.00   \n",
       "Algeria                       NaN             NaN      44100.00   \n",
       "Argentina                 71100.0        197500.0      92771.75   \n",
       "Armenia                       NaN             NaN     100500.00   \n",
       "Australia                 70000.0        110000.0     109500.00   \n",
       "...                           ...             ...           ...   \n",
       "Uruguay                       NaN             NaN     100500.00   \n",
       "Uzbekistan                    NaN             NaN           NaN   \n",
       "Vietnam                   79200.0             NaN      75550.00   \n",
       "Zambia                        NaN             NaN           NaN   \n",
       "Zimbabwe                      NaN             NaN      63000.00   \n",
       "\n",
       "job_title_short  Data Engineer  Data Scientist  Machine Learning Engineer  \\\n",
       "job_country                                                                 \n",
       "Albania                    NaN        69981.25                        NaN   \n",
       "Algeria                45000.0             NaN                        NaN   \n",
       "Argentina              96773.0        71000.00                   101029.0   \n",
       "Armenia                48750.0             NaN                    87021.0   \n",
       "Australia             106712.5       139216.00                   101029.0   \n",
       "...                        ...             ...                        ...   \n",
       "Uruguay                    NaN             NaN                    50000.0   \n",
       "Uzbekistan                 NaN        30750.00                        NaN   \n",
       "Vietnam                96773.0        70000.00                    57600.0   \n",
       "Zambia                     NaN        90670.00                        NaN   \n",
       "Zimbabwe                   NaN        69085.00                        NaN   \n",
       "\n",
       "job_title_short  Senior Data Analyst  Senior Data Engineer  \\\n",
       "job_country                                                  \n",
       "Albania                          NaN                   NaN   \n",
       "Algeria                          NaN                   NaN   \n",
       "Argentina                        NaN              147500.0   \n",
       "Armenia                          NaN                   NaN   \n",
       "Australia                    50640.0              147500.0   \n",
       "...                              ...                   ...   \n",
       "Uruguay                          NaN                   NaN   \n",
       "Uzbekistan                       NaN                   NaN   \n",
       "Vietnam                     105837.5              147500.0   \n",
       "Zambia                           NaN                   NaN   \n",
       "Zimbabwe                         NaN                   NaN   \n",
       "\n",
       "job_title_short  Senior Data Scientist  Software Engineer  \n",
       "job_country                                                \n",
       "Albania                       157500.0                NaN  \n",
       "Algeria                            NaN                NaN  \n",
       "Argentina                          NaN           174500.0  \n",
       "Armenia                            NaN                NaN  \n",
       "Australia                     157500.0           118350.0  \n",
       "...                                ...                ...  \n",
       "Uruguay                        57500.0                NaN  \n",
       "Uzbekistan                         NaN                NaN  \n",
       "Vietnam                        79200.0            53600.0  \n",
       "Zambia                             NaN                NaN  \n",
       "Zimbabwe                           NaN                NaN  \n",
       "\n",
       "[108 rows x 10 columns]"
      ]
     },
     "execution_count": 9,
     "metadata": {},
     "output_type": "execute_result"
    }
   ],
   "source": [
    "df.pivot_table(values = 'salary_year_avg', index = 'job_country', columns = 'job_title_short', aggfunc = 'median')          #here, index = rows"
   ]
  },
  {
   "cell_type": "markdown",
   "id": "ffab1a3f",
   "metadata": {},
   "source": [
    "Finding out the top 6 Countries on this Dataframe.............."
   ]
  },
  {
   "cell_type": "code",
   "execution_count": 12,
   "id": "63b38bec",
   "metadata": {},
   "outputs": [
    {
     "data": {
      "text/plain": [
       "Index(['United States', 'India', 'United Kingdom', 'France', 'Germany',\n",
       "       'Spain'],\n",
       "      dtype='object', name='job_country')"
      ]
     },
     "execution_count": 12,
     "metadata": {},
     "output_type": "execute_result"
    }
   ],
   "source": [
    "top_countries = df['job_country'].value_counts().head(6).index\n",
    "\n",
    "top_countries"
   ]
  },
  {
   "cell_type": "markdown",
   "id": "83b7e959",
   "metadata": {},
   "source": [
    "Let's plot Country-wise top 3 jobs on the Bar Chart..........."
   ]
  },
  {
   "cell_type": "code",
   "execution_count": 17,
   "id": "bff68f77",
   "metadata": {},
   "outputs": [
    {
     "data": {
      "image/png": "[encoded data removed]",
      "text/plain": [
       "<Figure size 640x480 with 1 Axes>"
      ]
     },
     "metadata": {},
     "output_type": "display_data"
    }
   ],
   "source": [
    "top_countries = df['job_country'].value_counts().head(6).index\n",
    "\n",
    "df_job_country_salary = df.pivot_table(\n",
    "    values = 'salary_year_avg',\n",
    "    index = 'job_country',\n",
    "    columns = 'job_title_short',\n",
    "    aggfunc = 'median'\n",
    ")\n",
    "\n",
    "df_job_country_salary = df_job_country_salary.loc[top_countries]\n",
    "\n",
    "job_titles = ['Data Analyst', 'Data Engineer', 'Data Scientist']\n",
    "\n",
    "df_job_country_salary = df_job_country_salary[job_titles]\n",
    "\n",
    "df_job_country_salary.plot(kind = 'bar')\n",
    "plt.ylabel('Median Salary ($USD)')\n",
    "plt.xlabel('')\n",
    "plt.title('Median Salary by Country and Job Title')\n",
    "plt.xticks(rotation = 45, ha = 'right')\n",
    "plt.show()"
   ]
  },
  {
   "cell_type": "markdown",
   "id": "30818be7",
   "metadata": {},
   "source": [
    "We could have done all of this using the groupby() method by running a for Loop basically aggregating different job_titles and all the different countries, but that's a MESS. Pivot Tables saves your time by reducing the lines of code and makes your job easier. "
   ]
  }
 ],
 "metadata": {
  "kernelspec": {
   "display_name": "python_course",
   "language": "python",
   "name": "python3"
  },
  "language_info": {
   "codemirror_mode": {
    "name": "ipython",
    "version": 3
   },
   "file_extension": ".py",
   "mimetype": "text/x-python",
   "name": "python",
   "nbconvert_exporter": "python",
   "pygments_lexer": "ipython3",
   "version": "3.11.14"
  }
 },
 "nbformat": 4,
 "nbformat_minor": 5
}
